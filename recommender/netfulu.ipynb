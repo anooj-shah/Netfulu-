{
 "cells": [
  {
   "cell_type": "code",
   "execution_count": 5,
   "metadata": {
    "scrolled": false
   },
   "outputs": [
    {
     "name": "stdout",
     "output_type": "stream",
     "text": [
      "data_df before first filter\n",
      "<class 'pandas.core.frame.DataFrame'>\n",
      "RangeIndex: 26024289 entries, 0 to 26024288\n",
      "Data columns (total 4 columns):\n",
      " #   Column     Dtype  \n",
      "---  ------     -----  \n",
      " 0   UserID     int64  \n",
      " 1   MovieID    int64  \n",
      " 2   Rating     float64\n",
      " 3   Timestamp  int64  \n",
      "dtypes: float64(1), int64(3)\n",
      "memory usage: 794.2 MB\n",
      "None\n",
      "356861\n"
     ]
    }
   ],
   "source": [
    "import pandas as pd\n",
    "import numpy as np\n",
    "from datetime import date\n",
    "from scipy.sparse import coo_matrix\n",
    "\n",
    "data_df = pd.read_csv('./ratings.csv', sep=',', names=[\"UserID\", \"MovieID\", \"Rating\", \"Timestamp\"],dtype={'Rating':'float64'})\n",
    "\n",
    "#dataframe object with movie information\n",
    "header_names=[\n",
    "        \"adult\",\n",
    "        \"belongs_to_collection\", \n",
    "        \"budget\",\n",
    "        \"genres\",\n",
    "        \"homepage\",\n",
    "        \"movieId\",\n",
    "        \"imdb_id\",\n",
    "        \"original_language\",\n",
    "        \"original_title\",\n",
    "        \"overview\",\n",
    "        \"popularity\",\n",
    "        \"poster_path\",\n",
    "        \"production_companies\",\n",
    "        \"production_countries\",\n",
    "        \"release_date\",\n",
    "        \"revenue\",\n",
    "        \"runtime\",\n",
    "        \"spoken_languages\",\n",
    "        \"status\",\n",
    "        \"tagline\",\n",
    "        \"title\",\n",
    "        \"video\",\n",
    "        \"vote_average\",\n",
    "        \"vote_count\"]\n",
    "movie_data_df = pd.read_csv('./movies_metadata.csv', sep=',', names= header_names)\n",
    "\n",
    "# filtering ratings before certain time to help with memory space\n",
    "data_df['Timestamp'] = pd.to_datetime(data_df['Timestamp'], unit='s')\n",
    "cutoff_date = \"2017-06-01\" # this was the earliest i could do without a memory error\n",
    "data_df = data_df[data_df['Timestamp'] >= cutoff_date]\n",
    "# print(\"data_df after second filter\")\n",
    "# print(data_df.info())        \n",
    "data_df.to_csv('filtered_ratings.csv', index=False)\n",
    "\n",
    "\n",
    "# First, generate dictionaries for mapping old id to new id for users and movies\n",
    "unique_MovieID = data_df['MovieID'].unique()\n",
    "unique_UserID = data_df['UserID'].unique()\n",
    "j = 0\n",
    "user_old2new_id_dict = dict()\n",
    "for u in unique_UserID:\n",
    "    user_old2new_id_dict[u] = j\n",
    "    j += 1\n",
    "j = 0\n",
    "movie_old2new_id_dict = dict()\n",
    "for i in unique_MovieID:\n",
    "    movie_old2new_id_dict[i] = j\n",
    "    j += 1\n",
    "    \n",
    "# Then, use the generated dictionaries to reindex UserID and MovieID in the data_df\n",
    "user_list = data_df['UserID'].values\n",
    "movie_list = data_df['MovieID'].values\n",
    "for j in range(len(data_df)):\n",
    "    user_list[j] = user_old2new_id_dict[user_list[j]]\n",
    "    movie_list[j] = movie_old2new_id_dict[movie_list[j]]\n",
    "data_df['UserID'] = user_list\n",
    "data_df['movieID'] = movie_list\n",
    "\n",
    "# generate train_df with 70% samples and test_df with 30% samples, and there should have no overlap between them.\n",
    "train_index = np.random.random(len(data_df)) <= 0.7\n",
    "train_df = data_df[train_index]\n",
    "test_df = data_df[~train_index]\n",
    "\n",
    "# generate train_mat and test_mat\n",
    "num_user = len(data_df['UserID'].unique())\n",
    "num_movie = len(data_df['MovieID'].unique())\n",
    "num_ratings = len(data_df['Rating'])\n",
    "print(num_ratings)\n",
    "\n",
    "# print(train_df.info())\n",
    "train_mat = coo_matrix((train_df['Rating'].values, (train_df['UserID'].values, train_df['MovieID'].values)), shape=(num_user, num_movie)).astype(float).toarray()\n",
    "test_mat = coo_matrix((test_df['Rating'].values, (test_df['UserID'].values, test_df['MovieID'].values)), shape=(num_user, num_movie)).astype(float).toarray()"
   ]
  },
  {
   "cell_type": "code",
   "execution_count": 9,
   "metadata": {},
   "outputs": [
    {
     "name": "stdout",
     "output_type": "stream",
     "text": [
      "[[1. 1. 1. ... 0. 0. 0.]\n",
      " [0. 0. 0. ... 0. 0. 0.]\n",
      " [0. 0. 0. ... 0. 0. 0.]\n",
      " ...\n",
      " [0. 0. 0. ... 0. 0. 0.]\n",
      " [0. 0. 0. ... 0. 0. 0.]\n",
      " [0. 0. 0. ... 1. 0. 0.]]\n"
     ]
    }
   ],
   "source": [
    "train_mat = (train_mat > 0).astype(float)\n",
    "test_mat = (test_mat > 0).astype(float)\n",
    "\n",
    "print(train_mat)"
   ]
  },
  {
   "cell_type": "markdown",
   "metadata": {},
   "source": [
    "user-user Collaborative Filtering with implicit feedback (from hw2) SWITCH TO ITEM-ITEM"
   ]
  },
  {
   "cell_type": "code",
   "execution_count": 10,
   "metadata": {
    "scrolled": true
   },
   "outputs": [
    {
     "name": "stdout",
     "output_type": "stream",
     "text": [
      "[[1.         0.13636364 0.075      ... 0.         0.         0.        ]\n",
      " [0.13636364 1.         0.11023622 ... 0.         0.         0.        ]\n",
      " [0.075      0.11023622 1.         ... 0.         0.         0.        ]\n",
      " ...\n",
      " [0.         0.         0.         ... 1.         0.         0.        ]\n",
      " [0.         0.         0.         ... 0.         0.         0.        ]\n",
      " [0.         0.         0.         ... 0.         0.         0.        ]]\n"
     ]
    }
   ],
   "source": [
    "#implicit user user collab filtering\n",
    "\n",
    "# numer = np.matmul(train_mat, train_mat.T)\n",
    "# denom = np.sum(train_mat ** 2, axis=1, keepdims=True) ** 0.5\n",
    "# Cosine = numer / np.matmul(denom, denom.T)\n",
    "\n",
    "# calculating cosinne similarity between items\n",
    "num_rating_items = np.sum(train_mat, axis=0, keepdims=True)\n",
    "numer = np.matmul(train_mat.T, train_mat)  # num_item * num_item\n",
    "denom = num_rating_items.T + num_rating_items - numer  # num_item * num_item\n",
    "denom[denom == 0] = 1\n",
    "cosine_sim_mat = numer / denom  # num_item * num_item\n",
    "print(cosine_sim_mat)"
   ]
  },
  {
   "cell_type": "code",
   "execution_count": 11,
   "metadata": {},
   "outputs": [
    {
     "name": "stdout",
     "output_type": "stream",
     "text": [
      "[0.50496138 0.47812625 0.38141906 ... 0.         0.         0.        ]\n",
      "[19397 13992 17711 14343   126    39    38    58    64    45   311    41\n",
      "   104   249   962   178   121   330   786   351  1139  1004   132   265\n",
      "   262   207    88  2063   506    67  2017   924   551   541   215   461\n",
      "   593  2095   505   179    31    68   393    47   501   456   799   218\n",
      "   907   790]\n"
     ]
    }
   ],
   "source": [
    "#use cosine sim mat to give recommendations\n",
    "\n",
    "#track which items the user likes so we can find similar items\n",
    "user_train_like = []\n",
    "for u in range(num_user):\n",
    "    user_train_like.append(np.where(train_mat[u,:] > 0)[0])\n",
    "\n",
    "# use equation to get a predicted preference score based on similarity between items \n",
    "prediction_mat = train_mat.copy()\n",
    "for i in range(num_movie):\n",
    "    similarities = cosine_sim_mat[i, :]\n",
    "    similarities[i] = -1\n",
    "    N_idx = np.argpartition(similarities, -10)[-10:]\n",
    "    N_sim = similarities[N_idx]\n",
    "    prediction_mat[:, i] = np.sum(N_sim.reshape((1, -1)) * train_mat[:, N_idx], axis=1) / (np.sum(N_sim) + 1e-10)\n",
    "    \n",
    "print(prediction_mat[0])\n",
    "\n",
    "recommendation = [] # will append each user's top 50 movies here\n",
    "for u in range(num_user):\n",
    "    train_like = user_train_like[u]\n",
    "    prediction_mat[u][train_like] = -9999 # don't recommend what user already liked\n",
    "    top50_iid = np.argpartition(prediction_mat[u], -50)[-50:]\n",
    "    top50_iid = top50_iid[np.argsort(prediction_mat[u][top50_iid])[-1::-1]]\n",
    "    recommendation.append(top50_iid)\n",
    "    \n",
    "print(recommendation[0]) #top 50 movies for user 0"
   ]
  },
  {
   "cell_type": "code",
   "execution_count": 18,
   "metadata": {},
   "outputs": [
    {
     "name": "stdout",
     "output_type": "stream",
     "text": [
      "[  104   132   262   606   529   548   680   765    99   275    81   809\n",
      "   187    34   546   203   330   232   240   523   222  1076    44   184\n",
      "    22   250   224  2026   242    48   688   258    54   218   635   506\n",
      "  1089   574   195    35   217   209   652   154    37 11077   173   386\n",
      " 18273 15293]\n"
     ]
    }
   ],
   "source": [
    "# use the prediction mat to recommend movies to the group\n",
    "\n",
    "user_group = [750, 50, 50] # FIXME - change this to ID of whoever is in group instead of hardcode\n",
    "\n",
    "# get the groups average predicted preference for each movie\n",
    "average_ratings = []\n",
    "\n",
    "for i in range(num_movie):\n",
    "    rating_sum = 0.0\n",
    "    for u in user_group:\n",
    "        \n",
    "        rating_sum+=prediction_mat[u][i]\n",
    "    # only give them rec if the movie is in the movie_metadata file\n",
    "    if i in movie_data_df[\"movieId\"]:\n",
    "        average_ratings.append(rating_sum)\n",
    "    #average_ratings.append(rating_sum)\n",
    "\n",
    "top_50 = np.argsort(average_ratings)[-50:] # ID of 50 movies with the highest total preference\n",
    "print(top_50)\n",
    "    "
   ]
  },
  {
   "cell_type": "code",
   "execution_count": 17,
   "metadata": {},
   "outputs": [
    {
     "name": "stdout",
     "output_type": "stream",
     "text": [
      "recall@5\t[0.073838],\t||\t recall@20\t[0.178107],\t||\t recall@50\t[0.264495]\n",
      "precision@5\t[0.137508],\t||\t precision@20\t[0.114519],\t||\t precision@50\t[0.085970]\n"
     ]
    }
   ],
   "source": [
    "# Calculate recall@k, precision@k with k=5, 20, 50 and print out the average over all users for these 6 metrics.\n",
    "# Your Code Here...\n",
    "\n",
    "user_test_like = []\n",
    "for u in range(num_user):\n",
    "    user_test_like.append(np.where(test_mat[u, :] > 0)[0])\n",
    "    \n",
    "recalls = np.zeros(3)\n",
    "precisions = np.zeros(3)\n",
    "user_count = 0.\n",
    "\n",
    "for u in range(num_user):\n",
    "    test_like = user_test_like[u]\n",
    "    test_like_num = len(test_like)\n",
    "    if test_like_num == 0:\n",
    "        continue\n",
    "    rec = recommendation[u]\n",
    "    hits = np.zeros(3)\n",
    "    for k in range(50):\n",
    "        if rec[k] in test_like:\n",
    "            if k < 50:\n",
    "                hits[2] += 1\n",
    "                if k < 20:\n",
    "                    hits[1] += 1\n",
    "                    if k < 5:\n",
    "                        hits[0] += 1\n",
    "    recalls[0] += (hits[0] / test_like_num)\n",
    "    recalls[1] += (hits[1] / test_like_num)\n",
    "    recalls[2] += (hits[2] / test_like_num)\n",
    "    precisions[0] += (hits[0] / 5.)\n",
    "    precisions[1] += (hits[1] / 20.)\n",
    "    precisions[2] += (hits[2] / 50.)\n",
    "    user_count += 1\n",
    "\n",
    "recalls /= user_count\n",
    "precisions /= user_count\n",
    "\n",
    "print('recall@5\\t[%.6f],\\t||\\t recall@20\\t[%.6f],\\t||\\t recall@50\\t[%.6f]' % (recalls[0], recalls[1], recalls[2]))\n",
    "print('precision@5\\t[%.6f],\\t||\\t precision@20\\t[%.6f],\\t||\\t precision@50\\t[%.6f]' % (precisions[0], precisions[1], precisions[2]))"
   ]
  }
 ],
 "metadata": {
  "kernelspec": {
   "display_name": "Python 3",
   "language": "python",
   "name": "python3"
  },
  "language_info": {
   "codemirror_mode": {
    "name": "ipython",
    "version": 3
   },
   "file_extension": ".py",
   "mimetype": "text/x-python",
   "name": "python",
   "nbconvert_exporter": "python",
   "pygments_lexer": "ipython3",
   "version": "3.9.4"
  }
 },
 "nbformat": 4,
 "nbformat_minor": 4
}
