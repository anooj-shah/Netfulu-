{
 "metadata": {
  "language_info": {
   "codemirror_mode": {
    "name": "ipython",
    "version": 3
   },
   "file_extension": ".py",
   "mimetype": "text/x-python",
   "name": "python",
   "nbconvert_exporter": "python",
   "pygments_lexer": "ipython3",
   "version": "3.7.4"
  },
  "orig_nbformat": 2,
  "kernelspec": {
   "name": "python374jvsc74a57bd0bf70acd4e8dfcd4273625e5ed2cf895e4208da25b8abbfb5939f7620a69ae6f8",
   "display_name": "Python 3.7.4 64-bit ('base': conda)"
  }
 },
 "nbformat": 4,
 "nbformat_minor": 2,
 "cells": [
  {
   "cell_type": "code",
   "execution_count": 4,
   "metadata": {},
   "outputs": [],
   "source": [
    "import pandas as pd\n",
    "import numpy as np\n",
    "from datetime import date\n",
    "from scipy.sparse import coo_matrix\n",
    "import requests\n",
    "\n",
    "data_df = pd.read_csv('../../data/ratings.csv', sep=',',header=0, names=[\"UserID\", \"MovieID\", \"Rating\", \"Timestamp\"],dtype={'Rating':'float64', \"Timestamp\":\"float64\"})\n",
    "filtered_data = pd.read_csv('./../../data/filtered_ratings.csv', sep=',', names = [\"UserID\", \"MovieID\", \"Rating\", \"Timestamp\"])\n",
    "meta_df = pd.read_csv('../../data/movies_metadata.csv',header=0, usecols=[\"id\", \"imdb_id\", \"original_title\"])\n",
    "data_df[\"Rating\"] = (data_df[\"Rating\"] > 0).astype(float)"
   ]
  },
  {
   "cell_type": "code",
   "execution_count": 5,
   "metadata": {},
   "outputs": [
    {
     "output_type": "stream",
     "name": "stdout",
     "text": [
      "2571      1346\n318       1333\n79132     1189\n2959      1150\n356       1145\n          ... \n158412       1\n125628       1\n641          1\n160207       1\n2049         1\nName: MovieID, Length: 19700, dtype: int64\n"
     ]
    }
   ],
   "source": [
    "## we want the k movies that have been rated the most times.\n",
    "filtered_data.dropna()\n",
    "k = 100\n",
    "\n",
    "value_counts = filtered_data['MovieID'].value_counts()\n",
    "movies_in_meta = meta_df[\"id\"].unique()\n",
    "print(value_counts)\n",
    "movies = []\n",
    "ids = []\n",
    "for movie, _ in value_counts.iteritems():\n",
    "    if(len(movies)>=k):\n",
    "        break\n",
    "    if(str(movie) in movies_in_meta):\n",
    "        movies.append(meta_df[meta_df[\"id\"] == str(movie)][\"original_title\"].item())\n",
    "        ids.append(movie)\n"
   ]
  },
  {
   "cell_type": "code",
   "execution_count": 6,
   "metadata": {},
   "outputs": [],
   "source": [
    "api_results = []\n",
    "IMDB_API_KEY_HERE = \"k_i6ke8znc\"\n",
    "imdb_url = \"https://imdb-api.com/en/API/SearchMovie/\"+IMDB_API_KEY_HERE+\"/\"\n",
    "for movie in movies:\n",
    "    mov_url = imdb_url + movie\n",
    "    res = requests.get(mov_url)\n",
    "    api_results.append(res.json)"
   ]
  },
  {
   "cell_type": "code",
   "execution_count": 8,
   "metadata": {},
   "outputs": [],
   "source": [
    "images = []\n",
    "for result in api_results:\n",
    "    try:\n",
    "        res = result()\n",
    "        # print(res['results'][0]['image'])\n",
    "        images.append(res['results'][0]['image'])\n",
    "    except:\n",
    "        images.append(\"not found\")"
   ]
  },
  {
   "cell_type": "code",
   "execution_count": 7,
   "metadata": {},
   "outputs": [
    {
     "output_type": "execute_result",
     "data": {
      "text/plain": [
       "{'searchType': 'Movie',\n",
       " 'expression': 'The Million Dollar Hotel',\n",
       " 'results': [{'id': 'tt0120753',\n",
       "   'resultType': 'Title',\n",
       "   'image': 'https://imdb-api.com/images/original/MV5BNDQ2MGUwYjYtODFiNy00OTViLWJhOTgtZWNmM2I2MDRmMzQ1XkEyXkFqcGdeQXVyNjU0NTI0Nw@@._V1_Ratio0.7273_AL_.jpg',\n",
       "   'title': 'The Million Dollar Hotel',\n",
       "   'description': '(2000)'},\n",
       "  {'id': 'tt0172464',\n",
       "   'resultType': 'Title',\n",
       "   'image': 'https://imdb-api.com/images/original/MV5BODY2MzUxMjczMF5BMl5BanBnXkFtZTYwOTc0NzI5._V1_Ratio0.7273_AL_.jpg',\n",
       "   'title': 'The Million Dollar Kid',\n",
       "   'description': '(2000)'},\n",
       "  {'id': 'tt0037073',\n",
       "   'resultType': 'Title',\n",
       "   'image': 'https://imdb-api.com/images/original/MV5BOGVkN2QyZjEtMDMyMy00ZTUyLTlhYWEtOWMyYmJkZTI4ZjkxXkEyXkFqcGdeQXVyNjMxODMyODU@._V1_Ratio0.7273_AL_.jpg',\n",
       "   'title': 'The Million Dollar Cat',\n",
       "   'description': '(1944) (Short)'},\n",
       "  {'id': 'tt0066728',\n",
       "   'resultType': 'Title',\n",
       "   'image': 'https://imdb-api.com/images/original/MV5BYWQyYTU0ZmQtNDE5ZS00M2E4LWIxZjYtOWI5NTlhOWVlYWJkL2ltYWdlL2ltYWdlXkEyXkFqcGdeQXVyNzc5MjA3OA@@._V1_Ratio0.7273_AL_.jpg',\n",
       "   'title': 'The Million Dollar Duck',\n",
       "   'description': '(1971)'},\n",
       "  {'id': 'tt0020172',\n",
       "   'resultType': 'Title',\n",
       "   'image': 'https://imdb-api.com/images/original/MV5BYWQ5MmU1MDctMDVlOC00NTM1LWE0M2UtZmQ1MjYzMjk3YzcwXkEyXkFqcGdeQXVyMjUyNDk2ODc@._V1_Ratio1.2727_AL_.jpg',\n",
       "   'title': 'The Million Dollar Collar',\n",
       "   'description': '(1929)'},\n",
       "  {'id': 'tt1538855',\n",
       "   'resultType': 'Title',\n",
       "   'image': 'https://imdb-api.com/images/original/nopicture.jpg',\n",
       "   'title': 'Million Dollar House',\n",
       "   'description': '(2005) (Short)'},\n",
       "  {'id': 'tt2215625',\n",
       "   'resultType': 'Title',\n",
       "   'image': 'https://imdb-api.com/images/original/MV5BNDdlZGU4ZjktYzYzMS00M2U5LWFhN2ItYzRhMTljOTM5MTk3XkEyXkFqcGdeQXVyMjQwOTQ4NDg@._V1_Ratio0.7273_AL_.jpg',\n",
       "   'title': 'The Million Dollar Man',\n",
       "   'description': '(in development)'}],\n",
       " 'errorMessage': ''}"
      ]
     },
     "metadata": {},
     "execution_count": 7
    }
   ],
   "source": [
    "api_results[0]()"
   ]
  },
  {
   "cell_type": "code",
   "execution_count": 93,
   "metadata": {},
   "outputs": [],
   "source": [
    "with open('top100images.json','w', encoding=\"utf-8\") as file:\n",
    "    file.write(\"{\\n\")\n",
    "    for i in range(100):\n",
    "        file.write('\"')\n",
    "        file.write(movies[i])\n",
    "        file.write('\"')\n",
    "        file.write(':')\n",
    "        file.write('\"')\n",
    "        file.write(images[i])\n",
    "        file.write('\"')\n",
    "        if (i!=99):\n",
    "            file.write(',')\n",
    "        file.write('\\n')\n",
    "    file.write(\"}\\n\")"
   ]
  },
  {
   "cell_type": "code",
   "execution_count": null,
   "metadata": {},
   "outputs": [],
   "source": [
    "with open('ignore.py', w, encoding=\"utf-8\") as file:\n",
    "    file.write('ignore = [')\n",
    "    for i in range(100):\n",
    "        file.write(str(ids[i]))\n",
    "        if(i != 99):\n",
    "            file.write(',')\n",
    "    file.write(']')"
   ]
  },
  {
   "cell_type": "code",
   "execution_count": 10,
   "metadata": {},
   "outputs": [],
   "source": [
    "with open('top100.js','w', encoding=\"utf-8\") as file:\n",
    "    file.write(\"export default const top100=[\")\n",
    "    for i in range(100):\n",
    "        file.write(\"{\")\n",
    "        file.write(\"name: \")\n",
    "        file.write('\"')\n",
    "        file.write(movies[i])\n",
    "        file.write('\"')\n",
    "        file.write(',')\n",
    "\n",
    "        file.write('image:')\n",
    "        file.write('\"')\n",
    "        file.write(images[i])\n",
    "        file.write('\"')\n",
    "        file.write(',')\n",
    "        \n",
    "        file.write('id: ')\n",
    "        file.write('\"')\n",
    "        file.write(str(ids[i]))\n",
    "        file.write('\"')\n",
    "\n",
    "        file.write('}')\n",
    "        \n",
    "        if (i!=99):\n",
    "            file.write(',')\n",
    "        file.write('\\n')\n",
    "    file.write(\"];\\n\")"
   ]
  },
  {
   "cell_type": "code",
   "execution_count": 99,
   "metadata": {},
   "outputs": [
    {
     "output_type": "error",
     "ename": "ValueError",
     "evalue": "can only convert an array of size 1 to a Python scalar",
     "traceback": [
      "\u001b[1;31m---------------------------------------------------------------------------\u001b[0m",
      "\u001b[1;31mValueError\u001b[0m                                Traceback (most recent call last)",
      "\u001b[1;32m<ipython-input-99-c75954857509>\u001b[0m in \u001b[0;36m<module>\u001b[1;34m\u001b[0m\n\u001b[1;32m----> 1\u001b[1;33m \u001b[0mmeta_df\u001b[0m\u001b[1;33m[\u001b[0m\u001b[0mmeta_df\u001b[0m\u001b[1;33m[\u001b[0m\u001b[1;34m\"original_title\"\u001b[0m\u001b[1;33m]\u001b[0m \u001b[1;33m==\u001b[0m \u001b[1;34m\"Солярис\"\u001b[0m\u001b[1;33m]\u001b[0m\u001b[1;33m[\u001b[0m\u001b[1;34m\"id\"\u001b[0m\u001b[1;33m]\u001b[0m\u001b[1;33m.\u001b[0m\u001b[0mitem\u001b[0m\u001b[1;33m(\u001b[0m\u001b[1;33m)\u001b[0m\u001b[1;33m\u001b[0m\u001b[1;33m\u001b[0m\u001b[0m\n\u001b[0m",
      "\u001b[1;32m~\\Anaconda3\\lib\\site-packages\\pandas\\core\\base.py\u001b[0m in \u001b[0;36mitem\u001b[1;34m(self)\u001b[0m\n\u001b[0;32m    658\u001b[0m         \u001b[1;32mif\u001b[0m \u001b[0mlen\u001b[0m\u001b[1;33m(\u001b[0m\u001b[0mself\u001b[0m\u001b[1;33m)\u001b[0m \u001b[1;33m==\u001b[0m \u001b[1;36m1\u001b[0m\u001b[1;33m:\u001b[0m\u001b[1;33m\u001b[0m\u001b[1;33m\u001b[0m\u001b[0m\n\u001b[0;32m    659\u001b[0m             \u001b[1;32mreturn\u001b[0m \u001b[0mnext\u001b[0m\u001b[1;33m(\u001b[0m\u001b[0miter\u001b[0m\u001b[1;33m(\u001b[0m\u001b[0mself\u001b[0m\u001b[1;33m)\u001b[0m\u001b[1;33m)\u001b[0m\u001b[1;33m\u001b[0m\u001b[1;33m\u001b[0m\u001b[0m\n\u001b[1;32m--> 660\u001b[1;33m         \u001b[1;32mraise\u001b[0m \u001b[0mValueError\u001b[0m\u001b[1;33m(\u001b[0m\u001b[1;34m\"can only convert an array of size 1 to a Python scalar\"\u001b[0m\u001b[1;33m)\u001b[0m\u001b[1;33m\u001b[0m\u001b[1;33m\u001b[0m\u001b[0m\n\u001b[0m\u001b[0;32m    661\u001b[0m \u001b[1;33m\u001b[0m\u001b[0m\n\u001b[0;32m    662\u001b[0m     \u001b[1;33m@\u001b[0m\u001b[0mproperty\u001b[0m\u001b[1;33m\u001b[0m\u001b[1;33m\u001b[0m\u001b[0m\n",
      "\u001b[1;31mValueError\u001b[0m: can only convert an array of size 1 to a Python scalar"
     ]
    }
   ],
   "source": [
    "meta_df[meta_df[\"original_title\"] == \"Солярис\"][\"id\"].item()"
   ]
  },
  {
   "cell_type": "code",
   "execution_count": null,
   "metadata": {},
   "outputs": [],
   "source": []
  }
 ]
}