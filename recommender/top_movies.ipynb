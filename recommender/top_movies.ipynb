{
 "metadata": {
  "language_info": {
   "codemirror_mode": {
    "name": "ipython",
    "version": 3
   },
   "file_extension": ".py",
   "mimetype": "text/x-python",
   "name": "python",
   "nbconvert_exporter": "python",
   "pygments_lexer": "ipython3",
   "version": "3.7.4"
  },
  "orig_nbformat": 2,
  "kernelspec": {
   "name": "python374jvsc74a57bd0bf70acd4e8dfcd4273625e5ed2cf895e4208da25b8abbfb5939f7620a69ae6f8",
   "display_name": "Python 3.7.4 64-bit ('base': conda)"
  }
 },
 "nbformat": 4,
 "nbformat_minor": 2,
 "cells": [
  {
   "cell_type": "code",
   "execution_count": 73,
   "metadata": {},
   "outputs": [],
   "source": [
    "import pandas as pd\n",
    "import numpy as np\n",
    "from datetime import date\n",
    "from scipy.sparse import coo_matrix\n",
    "import requests\n",
    "\n",
    "data_df = pd.read_csv('./../data/ratings.csv', sep=',',header=0, names=[\"UserID\", \"MovieID\", \"Rating\", \"Timestamp\"],dtype={'Rating':'float64', \"Timestamp\":\"float64\"})\n",
    "meta_df = pd.read_csv('./../data/movies_metadata.csv',header=0, usecols=[\"id\", \"imdb_id\", \"original_title\"])\n",
    "data_df[\"Rating\"] = (data_df[\"Rating\"] > 0).astype(float)"
   ]
  },
  {
   "cell_type": "code",
   "execution_count": 69,
   "metadata": {},
   "outputs": [
    {
     "output_type": "stream",
     "name": "stdout",
     "text": [
      "356       91921\n318       91082\n296       87901\n593       84078\n2571      77960\n          ...  \n151011        1\n176257        1\n167416        1\n134633        1\n123324        1\nName: MovieID, Length: 45115, dtype: int64\n"
     ]
    }
   ],
   "source": [
    "## we want the k movies that have been rated the most times.\n",
    "data_df.dropna()\n",
    "k = 100\n",
    "\n",
    "value_counts = data_df['MovieID'].value_counts()\n",
    "movies_in_meta = meta_df[\"id\"].unique()\n",
    "print(value_counts)\n",
    "movies = []\n",
    "for movie, _ in value_counts.iteritems():\n",
    "    if(len(movies)>=k):\n",
    "        break\n",
    "    if(str(movie) in movies_in_meta):\n",
    "        movies.append(meta_df[meta_df[\"id\"] == str(movie)][\"original_title\"].item())\n"
   ]
  },
  {
   "cell_type": "code",
   "execution_count": 75,
   "metadata": {},
   "outputs": [],
   "source": [
    "api_results = []\n",
    "IMDB_API_KEY_HERE = \"get ur own ;)\"\n",
    "imdb_url = \"https://imdb-api.com/en/API/SearchMovie/\"+IMDB_API_KEY_HERE+\"/\"\n",
    "for movie in movies:\n",
    "    mov_url = imdb_url + movie\n",
    "    res = requests.get(mov_url)\n",
    "    api_results.append(res.json)"
   ]
  },
  {
   "cell_type": "code",
   "execution_count": 86,
   "metadata": {},
   "outputs": [],
   "source": [
    "images = []\n",
    "for result in api_results:\n",
    "    try:\n",
    "        res = result()\n",
    "        # print(res['results'][0]['image'])\n",
    "        images.append(res['results'][0]['image'])\n",
    "    except:\n",
    "        images.append(\"not found\")"
   ]
  },
  {
   "cell_type": "code",
   "execution_count": 78,
   "metadata": {},
   "outputs": [
    {
     "output_type": "execute_result",
     "data": {
      "text/plain": [
       "{'searchType': 'Movie',\n",
       " 'expression': 'The Million Dollar Hotel',\n",
       " 'results': [{'id': 'tt0120753',\n",
       "   'resultType': 'Title',\n",
       "   'image': 'https://imdb-api.com/images/original/MV5BNDQ2MGUwYjYtODFiNy00OTViLWJhOTgtZWNmM2I2MDRmMzQ1XkEyXkFqcGdeQXVyNjU0NTI0Nw@@._V1_Ratio0.7273_AL_.jpg',\n",
       "   'title': 'The Million Dollar Hotel',\n",
       "   'description': '(2000)'},\n",
       "  {'id': 'tt0172464',\n",
       "   'resultType': 'Title',\n",
       "   'image': 'https://imdb-api.com/images/original/MV5BODY2MzUxMjczMF5BMl5BanBnXkFtZTYwOTc0NzI5._V1_Ratio0.7273_AL_.jpg',\n",
       "   'title': 'The Million Dollar Kid',\n",
       "   'description': '(2000)'},\n",
       "  {'id': 'tt0066728',\n",
       "   'resultType': 'Title',\n",
       "   'image': 'https://imdb-api.com/images/original/MV5BYWQyYTU0ZmQtNDE5ZS00M2E4LWIxZjYtOWI5NTlhOWVlYWJkL2ltYWdlL2ltYWdlXkEyXkFqcGdeQXVyNzc5MjA3OA@@._V1_Ratio0.7273_AL_.jpg',\n",
       "   'title': 'The Million Dollar Duck',\n",
       "   'description': '(1971)'},\n",
       "  {'id': 'tt0037073',\n",
       "   'resultType': 'Title',\n",
       "   'image': 'https://imdb-api.com/images/original/MV5BOGVkN2QyZjEtMDMyMy00ZTUyLTlhYWEtOWMyYmJkZTI4ZjkxXkEyXkFqcGdeQXVyNjMxODMyODU@._V1_Ratio0.7273_AL_.jpg',\n",
       "   'title': 'The Million Dollar Cat',\n",
       "   'description': '(1944) (Short)'},\n",
       "  {'id': 'tt2215625',\n",
       "   'resultType': 'Title',\n",
       "   'image': 'https://imdb-api.com/images/original/MV5BNDdlZGU4ZjktYzYzMS00M2U5LWFhN2ItYzRhMTljOTM5MTk3XkEyXkFqcGdeQXVyMjQwOTQ4NDg@._V1_Ratio0.7273_AL_.jpg',\n",
       "   'title': 'The Million Dollar Man',\n",
       "   'description': '(in development)'},\n",
       "  {'id': 'tt4238844',\n",
       "   'resultType': 'Title',\n",
       "   'image': 'https://imdb-api.com/images/original/MV5BMTkyNTA0MzQyMV5BMl5BanBnXkFtZTgwMDk1NjU3NTE@._V1_Ratio0.7273_AL_.jpg',\n",
       "   'title': 'The Million Dollar Piano',\n",
       "   'description': '(2014)'},\n",
       "  {'id': 'tt1538855',\n",
       "   'resultType': 'Title',\n",
       "   'image': 'https://imdb-api.com/images/original/nopicture.jpg',\n",
       "   'title': 'Million Dollar House',\n",
       "   'description': '(2005) (Short)'}],\n",
       " 'errorMessage': ''}"
      ]
     },
     "metadata": {},
     "execution_count": 78
    }
   ],
   "source": [
    "api_results[0]()"
   ]
  },
  {
   "cell_type": "code",
   "execution_count": 93,
   "metadata": {},
   "outputs": [],
   "source": [
    "with open('top100images.json','w', encoding=\"utf-8\") as file:\n",
    "    file.write(\"{\\n\")\n",
    "    for i in range(100):\n",
    "        file.write('\"')\n",
    "        file.write(movies[i])\n",
    "        file.write('\"')\n",
    "        file.write(':')\n",
    "        file.write('\"')\n",
    "        file.write(images[i])\n",
    "        file.write('\"')\n",
    "        if (i!=99):\n",
    "            file.write(',')\n",
    "        file.write('\\n')\n",
    "    file.write(\"}\\n\")"
   ]
  },
  {
   "cell_type": "code",
   "execution_count": null,
   "metadata": {},
   "outputs": [],
   "source": []
  }
 ]
}